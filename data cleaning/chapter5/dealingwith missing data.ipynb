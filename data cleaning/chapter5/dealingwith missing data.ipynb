{
 "cells": [
  {
   "cell_type": "code",
   "execution_count": 1,
   "metadata": {},
   "outputs": [
    {
     "name": "stdout",
     "output_type": "stream",
     "text": [
      "      key_1     val_1\n",
      "1  1.539165  1.802359\n",
      "2       NaN       NaN\n",
      "3  1.143557  0.862710\n"
     ]
    }
   ],
   "source": [
    "# import the pandas library\n",
    "import pandas as pd\n",
    "import numpy as np\n",
    "\n",
    "df = pd.DataFrame(np.random.randn(2, 2),\n",
    "                  index=['1', '3'],\n",
    "                  columns=['key_1', 'val_1']\n",
    "                  )\n",
    "\n",
    "df = df.reindex(['1', '2', '3'])\n",
    "\n",
    "print(df)\n",
    "# todo how to handle NaN?\n"
   ]
  },
  {
   "cell_type": "code",
   "execution_count": 2,
   "metadata": {},
   "outputs": [
    {
     "name": "stdout",
     "output_type": "stream",
     "text": [
      "1    False\n",
      "2     True\n",
      "3    False\n",
      "Name: val_1, dtype: bool\n"
     ]
    }
   ],
   "source": [
    "import pandas as pd\n",
    "import numpy as np\n",
    "\n",
    "df = pd.DataFrame(np.random.randn(2, 2),\n",
    "                  index=['1', '3'],\n",
    "                  columns=['key_1', 'val_1']\n",
    "                  )\n",
    "\n",
    "df = df.reindex(['1', '2', '3'])\n",
    "\n",
    "print(df['val_1'].isnull())\n"
   ]
  },
  {
   "cell_type": "code",
   "execution_count": 3,
   "metadata": {},
   "outputs": [
    {
     "name": "stdout",
     "output_type": "stream",
     "text": [
      "      key_1     val_1\n",
      "1  0.924024  0.065519\n",
      "2       NaN       NaN\n",
      "NaN replaced with '0':\n",
      "      key_1     val_1\n",
      "1  0.924024  0.065519\n",
      "2  0.000000  0.000000\n"
     ]
    }
   ],
   "source": [
    "import pandas as pd\n",
    "import numpy as np\n",
    "\n",
    "df = pd.DataFrame(np.random.randn(2, 2),\n",
    "                  index=['1', '3'],\n",
    "                  columns=['key_1', 'val_1']\n",
    "                  )\n",
    "df = df.reindex(['1', '2'])\n",
    "print(df)\n",
    "print(\"NaN replaced with '0':\")\n",
    "print(df.fillna(0))"
   ]
  },
  {
   "cell_type": "code",
   "execution_count": 4,
   "metadata": {},
   "outputs": [
    {
     "name": "stdout",
     "output_type": "stream",
     "text": [
      "-------------Original-------------:\n",
      "       key_1     val_1\n",
      "1 -0.077052  0.056679\n",
      "2       NaN       NaN\n",
      "3  1.713726  0.768148\n",
      "-------------Forward-------------:\n",
      "       key_1     val_1\n",
      "1 -0.077052  0.056679\n",
      "2 -0.077052  0.056679\n",
      "3  1.713726  0.768148\n",
      "-------------Backward-------------:\n",
      "       key_1     val_1\n",
      "1 -0.077052  0.056679\n",
      "2  1.713726  0.768148\n",
      "3  1.713726  0.768148\n"
     ]
    }
   ],
   "source": [
    "import pandas as pd\n",
    "import numpy as np\n",
    "\n",
    "df = pd.DataFrame(np.random.randn(2, 2),\n",
    "                  index=['1', '3'],\n",
    "                  columns=['key_1', 'val_1']\n",
    "                  )\n",
    "\n",
    "df = df.reindex(['1', '2', '3'])\n",
    "\n",
    "print(\"-------------Original-------------:\\n\", df)\n",
    "print(\"-------------Forward-------------:\\n\", df.fillna(method='pad'))\n",
    "print(\"-------------Backward-------------:\\n\", df.fillna(method='bfill'))\n"
   ]
  },
  {
   "cell_type": "code",
   "execution_count": 5,
   "metadata": {},
   "outputs": [
    {
     "name": "stdout",
     "output_type": "stream",
     "text": [
      "-----Original------\n",
      "     one   two\n",
      "0    10  1000\n",
      "1    20     0\n",
      "2    30    30\n",
      "3    40    40\n",
      "4    50    50\n",
      "5  2000    60\n",
      "-----Replaced------\n",
      "    one  two\n",
      "0   10   10\n",
      "1   20    0\n",
      "2   30   30\n",
      "3   40   40\n",
      "4   50   50\n",
      "5   60   60\n"
     ]
    }
   ],
   "source": [
    "import pandas as pd\n",
    "\n",
    "df = pd.DataFrame({'one': [10, 20, 30, 40, 50, 2000],\n",
    "                   'two': [1000, 0, 30, 40, 50, 60]})\n",
    "print(\"-----Original------\\n\", df)\n",
    "print(\"-----Replaced------\\n\", df.replace({1000: 10, 2000: 60}))"
   ]
  },
  {
   "cell_type": "code",
   "execution_count": null,
   "metadata": {},
   "outputs": [],
   "source": []
  }
 ],
 "metadata": {
  "kernelspec": {
   "display_name": "Python 3",
   "language": "python",
   "name": "python3"
  },
  "language_info": {
   "codemirror_mode": {
    "name": "ipython",
    "version": 3
   },
   "file_extension": ".py",
   "mimetype": "text/x-python",
   "name": "python",
   "nbconvert_exporter": "python",
   "pygments_lexer": "ipython3",
   "version": "3.7.1"
  }
 },
 "nbformat": 4,
 "nbformat_minor": 2
}
