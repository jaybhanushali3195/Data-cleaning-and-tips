{
 "cells": [
  {
   "cell_type": "code",
   "execution_count": 8,
   "metadata": {},
   "outputs": [],
   "source": [
    "# %load Word2Vect.py\n",
    "from gensim.test.utils import common_texts\n",
    "from gensim.models import Word2Vec\n",
    "\n",
    "from nltk.corpus import stopwords\n",
    "from nltk.tokenize import word_tokenize\n",
    "import itertools\n",
    "\n",
    "stopwords = list(stopwords.words('english'))\n",
    "numbers = list(range(0, 100))  # number that are identifiers of pages\n",
    "forumSpecificWords = ['>', '<', '?', '[', ']'] + numbers  # special signs\n",
    "stopwords += forumSpecificWords\n",
    "\n",
    "with open(\"shakespeare.txt\", \"rb\") as f:\n",
    "    content = f.read().decode('utf-8')\n",
    "    tokens = word_tokenize(content)\n",
    "    withoutStopWords = [w for w in tokens if not w in stopwords]\n",
    "\n"
   ]
  },
  {
   "cell_type": "code",
   "execution_count": 11,
   "metadata": {},
   "outputs": [
    {
     "data": {
      "text/plain": [
       "789013"
      ]
     },
     "execution_count": 11,
     "metadata": {},
     "output_type": "execute_result"
    }
   ],
   "source": [
    "len(withoutStopWords)"
   ]
  },
  {
   "cell_type": "code",
   "execution_count": 14,
   "metadata": {},
   "outputs": [],
   "source": [
    "withoutStopWords = []\n",
    "for w in tokens:\n",
    "    if w not in stopwords:\n",
    "        withoutStopWords.append(w.strip())  # clean whitespaces\n",
    "\n",
    "\n"
   ]
  },
  {
   "cell_type": "code",
   "execution_count": 15,
   "metadata": {},
   "outputs": [
    {
     "data": {
      "text/plain": [
       "789013"
      ]
     },
     "execution_count": 15,
     "metadata": {},
     "output_type": "execute_result"
    }
   ],
   "source": [
    "len(withoutStopWords)"
   ]
  },
  {
   "cell_type": "code",
   "execution_count": 16,
   "metadata": {},
   "outputs": [
    {
     "name": "stdout",
     "output_type": "stream",
     "text": [
      "(0, 42069)\n"
     ]
    }
   ],
   "source": [
    "model = Word2Vec(common_texts, size=100, window=5, min_count=1, workers=4)\n",
    "inputTooMLModel = model.train(itertools.islice(withoutStopWords, 10_000), total_examples=len(withoutStopWords), epochs=1)\n",
    "print(inputTooMLModel)"
   ]
  },
  {
   "cell_type": "code",
   "execution_count": 18,
   "metadata": {},
   "outputs": [
    {
     "name": "stdout",
     "output_type": "stream",
     "text": [
      "\n",
      "---2,2: [('This', '100th'), ('This', 'Etext'), ('This', 'file'), ('100th', 'Etext'), ('100th', 'file'), ('100th', 'presented'), ('Etext', 'file'), ('Etext', 'presented'), ('Etext', 'Project'), ('file', 'presented'), ('file', 'Project'), ('file', 'Gutenberg'), ('presented', 'Project'), ('presented', 'Gutenberg'), ('presented', ','), ('Project', 'Gutenberg'), ('Project', ','), ('Project', 'presented'), ('Gutenberg', ','), ('Gutenberg', 'presented'), ('Gutenberg', 'cooperation'), (',', 'presented'), (',', 'cooperation'), (',', 'World'), ('presented', 'cooperation'), ('presented', 'World'), ('presented', 'Library'), ('cooperation', 'World'), ('cooperation', 'Library'), ('cooperation', ','), ('World', 'Library'), ('World', ','), ('World', 'Inc.'), ('Library', ','), ('Library', 'Inc.'), ('Library', ','), (',', 'Inc.'), (',', ','), (',', 'Library'), ('Inc.', ','), ('Inc.', 'Library'), ('Inc.', 'Future'), (',', 'Library'), (',', 'Future'), (',', 'Shakespeare'), ('Library', 'Future'), ('Library', 'Shakespeare'), ('Library', 'CDROMS'), ('Future', 'Shakespeare'), ('Future', 'CDROMS'), ('Future', '.'), ('Shakespeare', 'CDROMS'), ('Shakespeare', '.'), ('Shakespeare', 'Project'), ('CDROMS', '.'), ('CDROMS', 'Project'), ('CDROMS', 'Gutenberg'), ('.', 'Project'), ('.', 'Gutenberg'), ('.', 'often'), ('Project', 'Gutenberg'), ('Project', 'often'), ('Project', 'releases'), ('Gutenberg', 'often'), ('Gutenberg', 'releases'), ('Gutenberg', 'Etexts'), ('often', 'releases'), ('often', 'Etexts'), ('often', 'NOT'), ('releases', 'Etexts'), ('releases', 'NOT'), ('releases', 'placed'), ('Etexts', 'NOT'), ('Etexts', 'placed'), ('Etexts', 'Public'), ('NOT', 'placed'), ('NOT', 'Public'), ('NOT', 'Domain'), ('placed', 'Public'), ('placed', 'Domain'), ('placed', '!'), ('Public', 'Domain'), ('Public', '!'), ('Public', '!'), ('Domain', '!'), ('Domain', '!'), ('Domain', 'Shakespeare'), ('!', '!'), ('!', 'Shakespeare'), ('!', '*This'), ('!', 'Shakespeare'), ('!', '*This'), ('!', 'Etext'), ('Shakespeare', '*This'), ('Shakespeare', 'Etext'), ('Shakespeare', 'certain'), ('*This', 'Etext'), ('*This', 'certain'), ('*This', 'copyright'), ('Etext', 'certain'), ('Etext', 'copyright'), ('Etext', 'implications'), ('certain', 'copyright'), ('certain', 'implications'), ('certain', 'read'), ('copyright', 'implications'), ('copyright', 'read'), ('copyright', '!'), ('implications', 'read'), ('implications', '!'), ('implications', '*'), ('read', '!'), ('read', '*'), ('read', 'THIS'), ('!', '*'), ('!', 'THIS'), ('!', 'ELECTRONIC'), ('*', 'THIS'), ('*', 'ELECTRONIC'), ('*', 'VERSION'), ('THIS', 'ELECTRONIC'), ('THIS', 'VERSION'), ('THIS', 'OF'), ('ELECTRONIC', 'VERSION'), ('ELECTRONIC', 'OF'), ('ELECTRONIC', 'THE'), ('VERSION', 'OF'), ('VERSION', 'THE'), ('VERSION', 'COMPLETE'), ('OF', 'THE'), ('OF', 'COMPLETE'), ('OF', 'WORKS'), ('THE', 'COMPLETE'), ('THE', 'WORKS'), ('THE', 'OF'), ('COMPLETE', 'WORKS'), ('COMPLETE', 'OF'), ('COMPLETE', 'WILLIAM'), ('WORKS', 'OF'), ('WORKS', 'WILLIAM'), ('WORKS', 'SHAKESPEARE'), ('OF', 'WILLIAM'), ('OF', 'SHAKESPEARE'), ('OF', 'IS'), ('WILLIAM', 'SHAKESPEARE'), ('WILLIAM', 'IS'), ('WILLIAM', 'COPYRIGHT'), ('SHAKESPEARE', 'IS'), ('SHAKESPEARE', 'COPYRIGHT'), ('SHAKESPEARE', '1990-1993'), ('IS', 'COPYRIGHT'), ('IS', '1990-1993'), ('IS', 'BY'), ('COPYRIGHT', '1990-1993'), ('COPYRIGHT', 'BY'), ('COPYRIGHT', 'WORLD'), ('1990-1993', 'BY'), ('1990-1993', 'WORLD'), ('1990-1993', 'LIBRARY'), ('BY', 'WORLD'), ('BY', 'LIBRARY'), ('BY', ','), ('WORLD', 'LIBRARY'), ('WORLD', ','), ('WORLD', 'INC.'), ('LIBRARY', ','), ('LIBRARY', 'INC.'), ('LIBRARY', ','), (',', 'INC.'), (',', ','), (',', 'AND'), ('INC.', ','), ('INC.', 'AND'), ('INC.', 'IS'), (',', 'AND'), (',', 'IS'), (',', 'PROVIDED'), ('AND', 'IS'), ('AND', 'PROVIDED'), ('AND', 'BY'), ('IS', 'PROVIDED'), ('IS', 'BY'), ('IS', 'PROJECT'), ('PROVIDED', 'BY'), ('PROVIDED', 'PROJECT'), ('PROVIDED', 'GUTENBERG'), ('BY', 'PROJECT'), ('BY', 'GUTENBERG'), ('BY', 'ETEXT'), ('PROJECT', 'GUTENBERG'), ('PROJECT', 'ETEXT'), ('PROJECT', 'OF'), ('GUTENBERG', 'ETEXT'), ('GUTENBERG', 'OF'), ('GUTENBERG', 'ILLINOIS'), ('ETEXT', 'OF'), ('ETEXT', 'ILLINOIS'), ('ETEXT', 'BENEDICTINE'), ('OF', 'ILLINOIS'), ('OF', 'BENEDICTINE'), ('OF', 'COLLEGE'), ('ILLINOIS', 'BENEDICTINE'), ('ILLINOIS', 'COLLEGE'), ('ILLINOIS', 'WITH'), ('BENEDICTINE', 'COLLEGE'), ('BENEDICTINE', 'WITH'), ('BENEDICTINE', 'PERMISSION'), ('COLLEGE', 'WITH'), ('COLLEGE', 'PERMISSION'), ('COLLEGE', '.'), ('WITH', 'PERMISSION'), ('WITH', '.'), ('WITH', 'ELECTRONIC'), ('PERMISSION', '.'), ('PERMISSION', 'ELECTRONIC'), ('PERMISSION', 'AND'), ('.', 'ELECTRONIC'), ('.', 'AND'), ('.', 'MACHINE'), ('ELECTRONIC', 'AND'), ('ELECTRONIC', 'MACHINE'), ('ELECTRONIC', 'READABLE'), ('AND', 'MACHINE'), ('AND', 'READABLE'), ('AND', 'COPIES'), ('MACHINE', 'READABLE'), ('MACHINE', 'COPIES'), ('MACHINE', 'MAY'), ('READABLE', 'COPIES'), ('READABLE', 'MAY'), ('READABLE', 'BE'), ('COPIES', 'MAY'), ('COPIES', 'BE'), ('COPIES', 'DISTRIBUTED'), ('MAY', 'BE'), ('MAY', 'DISTRIBUTED'), ('MAY', 'SO'), ('BE', 'DISTRIBUTED'), ('BE', 'SO'), ('BE', 'LONG'), ('DISTRIBUTED', 'SO'), ('DISTRIBUTED', 'LONG'), ('DISTRIBUTED', 'AS'), ('SO', 'LONG'), ('SO', 'AS'), ('SO', 'SUCH'), ('LONG', 'AS'), ('LONG', 'SUCH'), ('LONG', 'COPIES'), ('AS', 'SUCH'), ('AS', 'COPIES'), ('AS', '('), ('SUCH', 'COPIES'), ('SUCH', '('), ('SUCH', '1'), ('COPIES', '('), ('COPIES', '1'), ('COPIES', ')'), ('(', '1'), ('(', ')'), ('(', 'ARE'), ('1', ')'), ('1', 'ARE'), ('1', 'FOR'), (')', 'ARE'), (')', 'FOR'), (')', 'YOUR'), ('ARE', 'FOR'), ('ARE', 'YOUR'), ('ARE', 'OR'), ('FOR', 'YOUR'), ('FOR', 'OR'), ('FOR', 'OTHERS'), ('YOUR', 'OR'), ('YOUR', 'OTHERS'), ('YOUR', 'PERSONAL'), ('OR', 'OTHERS'), ('OR', 'PERSONAL'), ('OR', 'USE'), ('OTHERS', 'PERSONAL'), ('OTHERS', 'USE'), ('OTHERS', 'ONLY'), ('PERSONAL', 'USE'), ('PERSONAL', 'ONLY'), ('PERSONAL', ','), ('USE', 'ONLY'), ('USE', ','), ('USE', 'AND'), ('ONLY', ','), ('ONLY', 'AND'), ('ONLY', '('), (',', 'AND'), (',', '('), ('AND', '(')]\n",
      "\n",
      "---2,3: [('This', '100th'), ('This', 'Etext'), ('This', 'file'), ('This', 'presented'), ('100th', 'Etext'), ('100th', 'file'), ('100th', 'presented'), ('100th', 'Project'), ('Etext', 'file'), ('Etext', 'presented'), ('Etext', 'Project'), ('Etext', 'Gutenberg'), ('file', 'presented'), ('file', 'Project'), ('file', 'Gutenberg'), ('file', ','), ('presented', 'Project'), ('presented', 'Gutenberg'), ('presented', ','), ('presented', 'presented'), ('Project', 'Gutenberg'), ('Project', ','), ('Project', 'presented'), ('Project', 'cooperation'), ('Gutenberg', ','), ('Gutenberg', 'presented'), ('Gutenberg', 'cooperation'), ('Gutenberg', 'World'), (',', 'presented'), (',', 'cooperation'), (',', 'World'), (',', 'Library'), ('presented', 'cooperation'), ('presented', 'World'), ('presented', 'Library'), ('presented', ','), ('cooperation', 'World'), ('cooperation', 'Library'), ('cooperation', ','), ('cooperation', 'Inc.'), ('World', 'Library'), ('World', ','), ('World', 'Inc.'), ('World', ','), ('Library', ','), ('Library', 'Inc.'), ('Library', ','), ('Library', 'Library'), (',', 'Inc.'), (',', ','), (',', 'Library'), (',', 'Future'), ('Inc.', ','), ('Inc.', 'Library'), ('Inc.', 'Future'), ('Inc.', 'Shakespeare'), (',', 'Library'), (',', 'Future'), (',', 'Shakespeare'), (',', 'CDROMS'), ('Library', 'Future'), ('Library', 'Shakespeare'), ('Library', 'CDROMS'), ('Library', '.'), ('Future', 'Shakespeare'), ('Future', 'CDROMS'), ('Future', '.'), ('Future', 'Project'), ('Shakespeare', 'CDROMS'), ('Shakespeare', '.'), ('Shakespeare', 'Project'), ('Shakespeare', 'Gutenberg'), ('CDROMS', '.'), ('CDROMS', 'Project'), ('CDROMS', 'Gutenberg'), ('CDROMS', 'often'), ('.', 'Project'), ('.', 'Gutenberg'), ('.', 'often'), ('.', 'releases'), ('Project', 'Gutenberg'), ('Project', 'often'), ('Project', 'releases'), ('Project', 'Etexts'), ('Gutenberg', 'often'), ('Gutenberg', 'releases'), ('Gutenberg', 'Etexts'), ('Gutenberg', 'NOT'), ('often', 'releases'), ('often', 'Etexts'), ('often', 'NOT'), ('often', 'placed'), ('releases', 'Etexts'), ('releases', 'NOT'), ('releases', 'placed'), ('releases', 'Public'), ('Etexts', 'NOT'), ('Etexts', 'placed'), ('Etexts', 'Public'), ('Etexts', 'Domain'), ('NOT', 'placed'), ('NOT', 'Public'), ('NOT', 'Domain'), ('NOT', '!'), ('placed', 'Public'), ('placed', 'Domain'), ('placed', '!'), ('placed', '!'), ('Public', 'Domain'), ('Public', '!'), ('Public', '!'), ('Public', 'Shakespeare'), ('Domain', '!'), ('Domain', '!'), ('Domain', 'Shakespeare'), ('Domain', '*This'), ('!', '!'), ('!', 'Shakespeare'), ('!', '*This'), ('!', 'Etext'), ('!', 'Shakespeare'), ('!', '*This'), ('!', 'Etext'), ('!', 'certain'), ('Shakespeare', '*This'), ('Shakespeare', 'Etext'), ('Shakespeare', 'certain'), ('Shakespeare', 'copyright'), ('*This', 'Etext'), ('*This', 'certain'), ('*This', 'copyright'), ('*This', 'implications'), ('Etext', 'certain'), ('Etext', 'copyright'), ('Etext', 'implications'), ('Etext', 'read'), ('certain', 'copyright'), ('certain', 'implications'), ('certain', 'read'), ('certain', '!'), ('copyright', 'implications'), ('copyright', 'read'), ('copyright', '!'), ('copyright', '*'), ('implications', 'read'), ('implications', '!'), ('implications', '*'), ('implications', 'THIS'), ('read', '!'), ('read', '*'), ('read', 'THIS'), ('read', 'ELECTRONIC'), ('!', '*'), ('!', 'THIS'), ('!', 'ELECTRONIC'), ('!', 'VERSION'), ('*', 'THIS'), ('*', 'ELECTRONIC'), ('*', 'VERSION'), ('*', 'OF'), ('THIS', 'ELECTRONIC'), ('THIS', 'VERSION'), ('THIS', 'OF'), ('THIS', 'THE'), ('ELECTRONIC', 'VERSION'), ('ELECTRONIC', 'OF'), ('ELECTRONIC', 'THE'), ('ELECTRONIC', 'COMPLETE'), ('VERSION', 'OF'), ('VERSION', 'THE'), ('VERSION', 'COMPLETE'), ('VERSION', 'WORKS'), ('OF', 'THE'), ('OF', 'COMPLETE'), ('OF', 'WORKS'), ('OF', 'OF'), ('THE', 'COMPLETE'), ('THE', 'WORKS'), ('THE', 'OF'), ('THE', 'WILLIAM'), ('COMPLETE', 'WORKS'), ('COMPLETE', 'OF'), ('COMPLETE', 'WILLIAM'), ('COMPLETE', 'SHAKESPEARE'), ('WORKS', 'OF'), ('WORKS', 'WILLIAM'), ('WORKS', 'SHAKESPEARE'), ('WORKS', 'IS'), ('OF', 'WILLIAM'), ('OF', 'SHAKESPEARE'), ('OF', 'IS'), ('OF', 'COPYRIGHT'), ('WILLIAM', 'SHAKESPEARE'), ('WILLIAM', 'IS'), ('WILLIAM', 'COPYRIGHT'), ('WILLIAM', '1990-1993'), ('SHAKESPEARE', 'IS'), ('SHAKESPEARE', 'COPYRIGHT'), ('SHAKESPEARE', '1990-1993'), ('SHAKESPEARE', 'BY'), ('IS', 'COPYRIGHT'), ('IS', '1990-1993'), ('IS', 'BY'), ('IS', 'WORLD'), ('COPYRIGHT', '1990-1993'), ('COPYRIGHT', 'BY'), ('COPYRIGHT', 'WORLD'), ('COPYRIGHT', 'LIBRARY'), ('1990-1993', 'BY'), ('1990-1993', 'WORLD'), ('1990-1993', 'LIBRARY'), ('1990-1993', ','), ('BY', 'WORLD'), ('BY', 'LIBRARY'), ('BY', ','), ('BY', 'INC.'), ('WORLD', 'LIBRARY'), ('WORLD', ','), ('WORLD', 'INC.'), ('WORLD', ','), ('LIBRARY', ','), ('LIBRARY', 'INC.'), ('LIBRARY', ','), ('LIBRARY', 'AND'), (',', 'INC.'), (',', ','), (',', 'AND'), (',', 'IS'), ('INC.', ','), ('INC.', 'AND'), ('INC.', 'IS'), ('INC.', 'PROVIDED'), (',', 'AND'), (',', 'IS'), (',', 'PROVIDED'), (',', 'BY'), ('AND', 'IS'), ('AND', 'PROVIDED'), ('AND', 'BY'), ('AND', 'PROJECT'), ('IS', 'PROVIDED'), ('IS', 'BY'), ('IS', 'PROJECT'), ('IS', 'GUTENBERG'), ('PROVIDED', 'BY'), ('PROVIDED', 'PROJECT'), ('PROVIDED', 'GUTENBERG'), ('PROVIDED', 'ETEXT'), ('BY', 'PROJECT'), ('BY', 'GUTENBERG'), ('BY', 'ETEXT'), ('BY', 'OF'), ('PROJECT', 'GUTENBERG'), ('PROJECT', 'ETEXT'), ('PROJECT', 'OF'), ('PROJECT', 'ILLINOIS'), ('GUTENBERG', 'ETEXT'), ('GUTENBERG', 'OF'), ('GUTENBERG', 'ILLINOIS'), ('GUTENBERG', 'BENEDICTINE'), ('ETEXT', 'OF'), ('ETEXT', 'ILLINOIS'), ('ETEXT', 'BENEDICTINE'), ('ETEXT', 'COLLEGE'), ('OF', 'ILLINOIS'), ('OF', 'BENEDICTINE'), ('OF', 'COLLEGE'), ('OF', 'WITH'), ('ILLINOIS', 'BENEDICTINE'), ('ILLINOIS', 'COLLEGE'), ('ILLINOIS', 'WITH'), ('ILLINOIS', 'PERMISSION'), ('BENEDICTINE', 'COLLEGE'), ('BENEDICTINE', 'WITH'), ('BENEDICTINE', 'PERMISSION'), ('BENEDICTINE', '.'), ('COLLEGE', 'WITH'), ('COLLEGE', 'PERMISSION'), ('COLLEGE', '.'), ('COLLEGE', 'ELECTRONIC'), ('WITH', 'PERMISSION'), ('WITH', '.'), ('WITH', 'ELECTRONIC'), ('WITH', 'AND'), ('PERMISSION', '.'), ('PERMISSION', 'ELECTRONIC'), ('PERMISSION', 'AND'), ('PERMISSION', 'MACHINE'), ('.', 'ELECTRONIC'), ('.', 'AND'), ('.', 'MACHINE'), ('.', 'READABLE'), ('ELECTRONIC', 'AND'), ('ELECTRONIC', 'MACHINE'), ('ELECTRONIC', 'READABLE'), ('ELECTRONIC', 'COPIES'), ('AND', 'MACHINE'), ('AND', 'READABLE'), ('AND', 'COPIES'), ('AND', 'MAY'), ('MACHINE', 'READABLE'), ('MACHINE', 'COPIES'), ('MACHINE', 'MAY'), ('MACHINE', 'BE'), ('READABLE', 'COPIES'), ('READABLE', 'MAY'), ('READABLE', 'BE'), ('READABLE', 'DISTRIBUTED'), ('COPIES', 'MAY'), ('COPIES', 'BE'), ('COPIES', 'DISTRIBUTED'), ('COPIES', 'SO'), ('MAY', 'BE'), ('MAY', 'DISTRIBUTED'), ('MAY', 'SO'), ('MAY', 'LONG'), ('BE', 'DISTRIBUTED'), ('BE', 'SO'), ('BE', 'LONG'), ('BE', 'AS'), ('DISTRIBUTED', 'SO'), ('DISTRIBUTED', 'LONG'), ('DISTRIBUTED', 'AS'), ('DISTRIBUTED', 'SUCH'), ('SO', 'LONG'), ('SO', 'AS'), ('SO', 'SUCH'), ('SO', 'COPIES'), ('LONG', 'AS'), ('LONG', 'SUCH'), ('LONG', 'COPIES'), ('LONG', '('), ('AS', 'SUCH'), ('AS', 'COPIES'), ('AS', '('), ('AS', '1'), ('SUCH', 'COPIES'), ('SUCH', '('), ('SUCH', '1'), ('SUCH', ')'), ('COPIES', '('), ('COPIES', '1'), ('COPIES', ')'), ('COPIES', 'ARE'), ('(', '1'), ('(', ')'), ('(', 'ARE'), ('(', 'FOR'), ('1', ')'), ('1', 'ARE'), ('1', 'FOR'), ('1', 'YOUR'), (')', 'ARE'), (')', 'FOR'), (')', 'YOUR'), (')', 'OR'), ('ARE', 'FOR'), ('ARE', 'YOUR'), ('ARE', 'OR'), ('ARE', 'OTHERS'), ('FOR', 'YOUR'), ('FOR', 'OR'), ('FOR', 'OTHERS'), ('FOR', 'PERSONAL'), ('YOUR', 'OR'), ('YOUR', 'OTHERS'), ('YOUR', 'PERSONAL'), ('YOUR', 'USE'), ('OR', 'OTHERS'), ('OR', 'PERSONAL'), ('OR', 'USE'), ('OR', 'ONLY'), ('OTHERS', 'PERSONAL'), ('OTHERS', 'USE'), ('OTHERS', 'ONLY'), ('OTHERS', ','), ('PERSONAL', 'USE'), ('PERSONAL', 'ONLY'), ('PERSONAL', ','), ('PERSONAL', 'AND'), ('USE', 'ONLY'), ('USE', ','), ('USE', 'AND'), ('USE', '('), ('ONLY', ','), ('ONLY', 'AND'), ('ONLY', '('), (',', 'AND'), (',', '('), ('AND', '(')]\n",
      "\n",
      "---3,2: [('This', '100th', 'Etext'), ('This', '100th', 'file'), ('This', '100th', 'presented'), ('This', 'Etext', 'file'), ('This', 'Etext', 'presented'), ('This', 'file', 'presented'), ('100th', 'Etext', 'file'), ('100th', 'Etext', 'presented'), ('100th', 'Etext', 'Project'), ('100th', 'file', 'presented'), ('100th', 'file', 'Project'), ('100th', 'presented', 'Project'), ('Etext', 'file', 'presented'), ('Etext', 'file', 'Project'), ('Etext', 'file', 'Gutenberg'), ('Etext', 'presented', 'Project'), ('Etext', 'presented', 'Gutenberg'), ('Etext', 'Project', 'Gutenberg'), ('file', 'presented', 'Project'), ('file', 'presented', 'Gutenberg'), ('file', 'presented', ','), ('file', 'Project', 'Gutenberg'), ('file', 'Project', ','), ('file', 'Gutenberg', ','), ('presented', 'Project', 'Gutenberg'), ('presented', 'Project', ','), ('presented', 'Project', 'presented'), ('presented', 'Gutenberg', ','), ('presented', 'Gutenberg', 'presented'), ('presented', ',', 'presented'), ('Project', 'Gutenberg', ','), ('Project', 'Gutenberg', 'presented'), ('Project', 'Gutenberg', 'cooperation'), ('Project', ',', 'presented'), ('Project', ',', 'cooperation'), ('Project', 'presented', 'cooperation'), ('Gutenberg', ',', 'presented'), ('Gutenberg', ',', 'cooperation'), ('Gutenberg', ',', 'World'), ('Gutenberg', 'presented', 'cooperation'), ('Gutenberg', 'presented', 'World'), ('Gutenberg', 'cooperation', 'World'), (',', 'presented', 'cooperation'), (',', 'presented', 'World'), (',', 'presented', 'Library'), (',', 'cooperation', 'World'), (',', 'cooperation', 'Library'), (',', 'World', 'Library'), ('presented', 'cooperation', 'World'), ('presented', 'cooperation', 'Library'), ('presented', 'cooperation', ','), ('presented', 'World', 'Library'), ('presented', 'World', ','), ('presented', 'Library', ','), ('cooperation', 'World', 'Library'), ('cooperation', 'World', ','), ('cooperation', 'World', 'Inc.'), ('cooperation', 'Library', ','), ('cooperation', 'Library', 'Inc.'), ('cooperation', ',', 'Inc.'), ('World', 'Library', ','), ('World', 'Library', 'Inc.'), ('World', 'Library', ','), ('World', ',', 'Inc.'), ('World', ',', ','), ('World', 'Inc.', ','), ('Library', ',', 'Inc.'), ('Library', ',', ','), ('Library', ',', 'Library'), ('Library', 'Inc.', ','), ('Library', 'Inc.', 'Library'), ('Library', ',', 'Library'), (',', 'Inc.', ','), (',', 'Inc.', 'Library'), (',', 'Inc.', 'Future'), (',', ',', 'Library'), (',', ',', 'Future'), (',', 'Library', 'Future'), ('Inc.', ',', 'Library'), ('Inc.', ',', 'Future'), ('Inc.', ',', 'Shakespeare'), ('Inc.', 'Library', 'Future'), ('Inc.', 'Library', 'Shakespeare'), ('Inc.', 'Future', 'Shakespeare'), (',', 'Library', 'Future'), (',', 'Library', 'Shakespeare'), (',', 'Library', 'CDROMS'), (',', 'Future', 'Shakespeare'), (',', 'Future', 'CDROMS'), (',', 'Shakespeare', 'CDROMS'), ('Library', 'Future', 'Shakespeare'), ('Library', 'Future', 'CDROMS'), ('Library', 'Future', '.'), ('Library', 'Shakespeare', 'CDROMS'), ('Library', 'Shakespeare', '.'), ('Library', 'CDROMS', '.'), ('Future', 'Shakespeare', 'CDROMS'), ('Future', 'Shakespeare', '.'), ('Future', 'Shakespeare', 'Project'), ('Future', 'CDROMS', '.'), ('Future', 'CDROMS', 'Project'), ('Future', '.', 'Project'), ('Shakespeare', 'CDROMS', '.'), ('Shakespeare', 'CDROMS', 'Project'), ('Shakespeare', 'CDROMS', 'Gutenberg'), ('Shakespeare', '.', 'Project'), ('Shakespeare', '.', 'Gutenberg'), ('Shakespeare', 'Project', 'Gutenberg'), ('CDROMS', '.', 'Project'), ('CDROMS', '.', 'Gutenberg'), ('CDROMS', '.', 'often'), ('CDROMS', 'Project', 'Gutenberg'), ('CDROMS', 'Project', 'often'), ('CDROMS', 'Gutenberg', 'often'), ('.', 'Project', 'Gutenberg'), ('.', 'Project', 'often'), ('.', 'Project', 'releases'), ('.', 'Gutenberg', 'often'), ('.', 'Gutenberg', 'releases'), ('.', 'often', 'releases'), ('Project', 'Gutenberg', 'often'), ('Project', 'Gutenberg', 'releases'), ('Project', 'Gutenberg', 'Etexts'), ('Project', 'often', 'releases'), ('Project', 'often', 'Etexts'), ('Project', 'releases', 'Etexts'), ('Gutenberg', 'often', 'releases'), ('Gutenberg', 'often', 'Etexts'), ('Gutenberg', 'often', 'NOT'), ('Gutenberg', 'releases', 'Etexts'), ('Gutenberg', 'releases', 'NOT'), ('Gutenberg', 'Etexts', 'NOT'), ('often', 'releases', 'Etexts'), ('often', 'releases', 'NOT'), ('often', 'releases', 'placed'), ('often', 'Etexts', 'NOT'), ('often', 'Etexts', 'placed'), ('often', 'NOT', 'placed'), ('releases', 'Etexts', 'NOT'), ('releases', 'Etexts', 'placed'), ('releases', 'Etexts', 'Public'), ('releases', 'NOT', 'placed'), ('releases', 'NOT', 'Public'), ('releases', 'placed', 'Public'), ('Etexts', 'NOT', 'placed'), ('Etexts', 'NOT', 'Public'), ('Etexts', 'NOT', 'Domain'), ('Etexts', 'placed', 'Public'), ('Etexts', 'placed', 'Domain'), ('Etexts', 'Public', 'Domain'), ('NOT', 'placed', 'Public'), ('NOT', 'placed', 'Domain'), ('NOT', 'placed', '!'), ('NOT', 'Public', 'Domain'), ('NOT', 'Public', '!'), ('NOT', 'Domain', '!'), ('placed', 'Public', 'Domain'), ('placed', 'Public', '!'), ('placed', 'Public', '!'), ('placed', 'Domain', '!'), ('placed', 'Domain', '!'), ('placed', '!', '!'), ('Public', 'Domain', '!'), ('Public', 'Domain', '!'), ('Public', 'Domain', 'Shakespeare'), ('Public', '!', '!'), ('Public', '!', 'Shakespeare'), ('Public', '!', 'Shakespeare'), ('Domain', '!', '!'), ('Domain', '!', 'Shakespeare'), ('Domain', '!', '*This'), ('Domain', '!', 'Shakespeare'), ('Domain', '!', '*This'), ('Domain', 'Shakespeare', '*This'), ('!', '!', 'Shakespeare'), ('!', '!', '*This'), ('!', '!', 'Etext'), ('!', 'Shakespeare', '*This'), ('!', 'Shakespeare', 'Etext'), ('!', '*This', 'Etext'), ('!', 'Shakespeare', '*This'), ('!', 'Shakespeare', 'Etext'), ('!', 'Shakespeare', 'certain'), ('!', '*This', 'Etext'), ('!', '*This', 'certain'), ('!', 'Etext', 'certain'), ('Shakespeare', '*This', 'Etext'), ('Shakespeare', '*This', 'certain'), ('Shakespeare', '*This', 'copyright'), ('Shakespeare', 'Etext', 'certain'), ('Shakespeare', 'Etext', 'copyright'), ('Shakespeare', 'certain', 'copyright'), ('*This', 'Etext', 'certain'), ('*This', 'Etext', 'copyright'), ('*This', 'Etext', 'implications'), ('*This', 'certain', 'copyright'), ('*This', 'certain', 'implications'), ('*This', 'copyright', 'implications'), ('Etext', 'certain', 'copyright'), ('Etext', 'certain', 'implications'), ('Etext', 'certain', 'read'), ('Etext', 'copyright', 'implications'), ('Etext', 'copyright', 'read'), ('Etext', 'implications', 'read'), ('certain', 'copyright', 'implications'), ('certain', 'copyright', 'read'), ('certain', 'copyright', '!'), ('certain', 'implications', 'read'), ('certain', 'implications', '!'), ('certain', 'read', '!'), ('copyright', 'implications', 'read'), ('copyright', 'implications', '!'), ('copyright', 'implications', '*'), ('copyright', 'read', '!'), ('copyright', 'read', '*'), ('copyright', '!', '*'), ('implications', 'read', '!'), ('implications', 'read', '*'), ('implications', 'read', 'THIS'), ('implications', '!', '*'), ('implications', '!', 'THIS'), ('implications', '*', 'THIS'), ('read', '!', '*'), ('read', '!', 'THIS'), ('read', '!', 'ELECTRONIC'), ('read', '*', 'THIS'), ('read', '*', 'ELECTRONIC'), ('read', 'THIS', 'ELECTRONIC'), ('!', '*', 'THIS'), ('!', '*', 'ELECTRONIC'), ('!', '*', 'VERSION'), ('!', 'THIS', 'ELECTRONIC'), ('!', 'THIS', 'VERSION'), ('!', 'ELECTRONIC', 'VERSION'), ('*', 'THIS', 'ELECTRONIC'), ('*', 'THIS', 'VERSION'), ('*', 'THIS', 'OF'), ('*', 'ELECTRONIC', 'VERSION'), ('*', 'ELECTRONIC', 'OF'), ('*', 'VERSION', 'OF'), ('THIS', 'ELECTRONIC', 'VERSION'), ('THIS', 'ELECTRONIC', 'OF'), ('THIS', 'ELECTRONIC', 'THE'), ('THIS', 'VERSION', 'OF'), ('THIS', 'VERSION', 'THE'), ('THIS', 'OF', 'THE'), ('ELECTRONIC', 'VERSION', 'OF'), ('ELECTRONIC', 'VERSION', 'THE'), ('ELECTRONIC', 'VERSION', 'COMPLETE'), ('ELECTRONIC', 'OF', 'THE'), ('ELECTRONIC', 'OF', 'COMPLETE'), ('ELECTRONIC', 'THE', 'COMPLETE'), ('VERSION', 'OF', 'THE'), ('VERSION', 'OF', 'COMPLETE'), ('VERSION', 'OF', 'WORKS'), ('VERSION', 'THE', 'COMPLETE'), ('VERSION', 'THE', 'WORKS'), ('VERSION', 'COMPLETE', 'WORKS'), ('OF', 'THE', 'COMPLETE'), ('OF', 'THE', 'WORKS'), ('OF', 'THE', 'OF'), ('OF', 'COMPLETE', 'WORKS'), ('OF', 'COMPLETE', 'OF'), ('OF', 'WORKS', 'OF'), ('THE', 'COMPLETE', 'WORKS'), ('THE', 'COMPLETE', 'OF'), ('THE', 'COMPLETE', 'WILLIAM'), ('THE', 'WORKS', 'OF'), ('THE', 'WORKS', 'WILLIAM'), ('THE', 'OF', 'WILLIAM'), ('COMPLETE', 'WORKS', 'OF'), ('COMPLETE', 'WORKS', 'WILLIAM'), ('COMPLETE', 'WORKS', 'SHAKESPEARE'), ('COMPLETE', 'OF', 'WILLIAM'), ('COMPLETE', 'OF', 'SHAKESPEARE'), ('COMPLETE', 'WILLIAM', 'SHAKESPEARE'), ('WORKS', 'OF', 'WILLIAM'), ('WORKS', 'OF', 'SHAKESPEARE'), ('WORKS', 'OF', 'IS'), ('WORKS', 'WILLIAM', 'SHAKESPEARE'), ('WORKS', 'WILLIAM', 'IS'), ('WORKS', 'SHAKESPEARE', 'IS'), ('OF', 'WILLIAM', 'SHAKESPEARE'), ('OF', 'WILLIAM', 'IS'), ('OF', 'WILLIAM', 'COPYRIGHT'), ('OF', 'SHAKESPEARE', 'IS'), ('OF', 'SHAKESPEARE', 'COPYRIGHT'), ('OF', 'IS', 'COPYRIGHT'), ('WILLIAM', 'SHAKESPEARE', 'IS'), ('WILLIAM', 'SHAKESPEARE', 'COPYRIGHT'), ('WILLIAM', 'SHAKESPEARE', '1990-1993'), ('WILLIAM', 'IS', 'COPYRIGHT'), ('WILLIAM', 'IS', '1990-1993'), ('WILLIAM', 'COPYRIGHT', '1990-1993'), ('SHAKESPEARE', 'IS', 'COPYRIGHT'), ('SHAKESPEARE', 'IS', '1990-1993'), ('SHAKESPEARE', 'IS', 'BY'), ('SHAKESPEARE', 'COPYRIGHT', '1990-1993'), ('SHAKESPEARE', 'COPYRIGHT', 'BY'), ('SHAKESPEARE', '1990-1993', 'BY'), ('IS', 'COPYRIGHT', '1990-1993'), ('IS', 'COPYRIGHT', 'BY'), ('IS', 'COPYRIGHT', 'WORLD'), ('IS', '1990-1993', 'BY'), ('IS', '1990-1993', 'WORLD'), ('IS', 'BY', 'WORLD'), ('COPYRIGHT', '1990-1993', 'BY'), ('COPYRIGHT', '1990-1993', 'WORLD'), ('COPYRIGHT', '1990-1993', 'LIBRARY'), ('COPYRIGHT', 'BY', 'WORLD'), ('COPYRIGHT', 'BY', 'LIBRARY'), ('COPYRIGHT', 'WORLD', 'LIBRARY'), ('1990-1993', 'BY', 'WORLD'), ('1990-1993', 'BY', 'LIBRARY'), ('1990-1993', 'BY', ','), ('1990-1993', 'WORLD', 'LIBRARY'), ('1990-1993', 'WORLD', ','), ('1990-1993', 'LIBRARY', ','), ('BY', 'WORLD', 'LIBRARY'), ('BY', 'WORLD', ','), ('BY', 'WORLD', 'INC.'), ('BY', 'LIBRARY', ','), ('BY', 'LIBRARY', 'INC.'), ('BY', ',', 'INC.'), ('WORLD', 'LIBRARY', ','), ('WORLD', 'LIBRARY', 'INC.'), ('WORLD', 'LIBRARY', ','), ('WORLD', ',', 'INC.'), ('WORLD', ',', ','), ('WORLD', 'INC.', ','), ('LIBRARY', ',', 'INC.'), ('LIBRARY', ',', ','), ('LIBRARY', ',', 'AND'), ('LIBRARY', 'INC.', ','), ('LIBRARY', 'INC.', 'AND'), ('LIBRARY', ',', 'AND'), (',', 'INC.', ','), (',', 'INC.', 'AND'), (',', 'INC.', 'IS'), (',', ',', 'AND'), (',', ',', 'IS'), (',', 'AND', 'IS'), ('INC.', ',', 'AND'), ('INC.', ',', 'IS'), ('INC.', ',', 'PROVIDED'), ('INC.', 'AND', 'IS'), ('INC.', 'AND', 'PROVIDED'), ('INC.', 'IS', 'PROVIDED'), (',', 'AND', 'IS'), (',', 'AND', 'PROVIDED'), (',', 'AND', 'BY'), (',', 'IS', 'PROVIDED'), (',', 'IS', 'BY'), (',', 'PROVIDED', 'BY'), ('AND', 'IS', 'PROVIDED'), ('AND', 'IS', 'BY'), ('AND', 'IS', 'PROJECT'), ('AND', 'PROVIDED', 'BY'), ('AND', 'PROVIDED', 'PROJECT'), ('AND', 'BY', 'PROJECT'), ('IS', 'PROVIDED', 'BY'), ('IS', 'PROVIDED', 'PROJECT'), ('IS', 'PROVIDED', 'GUTENBERG'), ('IS', 'BY', 'PROJECT'), ('IS', 'BY', 'GUTENBERG'), ('IS', 'PROJECT', 'GUTENBERG'), ('PROVIDED', 'BY', 'PROJECT'), ('PROVIDED', 'BY', 'GUTENBERG'), ('PROVIDED', 'BY', 'ETEXT'), ('PROVIDED', 'PROJECT', 'GUTENBERG'), ('PROVIDED', 'PROJECT', 'ETEXT'), ('PROVIDED', 'GUTENBERG', 'ETEXT'), ('BY', 'PROJECT', 'GUTENBERG'), ('BY', 'PROJECT', 'ETEXT'), ('BY', 'PROJECT', 'OF'), ('BY', 'GUTENBERG', 'ETEXT'), ('BY', 'GUTENBERG', 'OF'), ('BY', 'ETEXT', 'OF'), ('PROJECT', 'GUTENBERG', 'ETEXT'), ('PROJECT', 'GUTENBERG', 'OF'), ('PROJECT', 'GUTENBERG', 'ILLINOIS'), ('PROJECT', 'ETEXT', 'OF'), ('PROJECT', 'ETEXT', 'ILLINOIS'), ('PROJECT', 'OF', 'ILLINOIS'), ('GUTENBERG', 'ETEXT', 'OF'), ('GUTENBERG', 'ETEXT', 'ILLINOIS'), ('GUTENBERG', 'ETEXT', 'BENEDICTINE'), ('GUTENBERG', 'OF', 'ILLINOIS'), ('GUTENBERG', 'OF', 'BENEDICTINE'), ('GUTENBERG', 'ILLINOIS', 'BENEDICTINE'), ('ETEXT', 'OF', 'ILLINOIS'), ('ETEXT', 'OF', 'BENEDICTINE'), ('ETEXT', 'OF', 'COLLEGE'), ('ETEXT', 'ILLINOIS', 'BENEDICTINE'), ('ETEXT', 'ILLINOIS', 'COLLEGE'), ('ETEXT', 'BENEDICTINE', 'COLLEGE'), ('OF', 'ILLINOIS', 'BENEDICTINE'), ('OF', 'ILLINOIS', 'COLLEGE'), ('OF', 'ILLINOIS', 'WITH'), ('OF', 'BENEDICTINE', 'COLLEGE'), ('OF', 'BENEDICTINE', 'WITH'), ('OF', 'COLLEGE', 'WITH'), ('ILLINOIS', 'BENEDICTINE', 'COLLEGE'), ('ILLINOIS', 'BENEDICTINE', 'WITH'), ('ILLINOIS', 'BENEDICTINE', 'PERMISSION'), ('ILLINOIS', 'COLLEGE', 'WITH'), ('ILLINOIS', 'COLLEGE', 'PERMISSION'), ('ILLINOIS', 'WITH', 'PERMISSION'), ('BENEDICTINE', 'COLLEGE', 'WITH'), ('BENEDICTINE', 'COLLEGE', 'PERMISSION'), ('BENEDICTINE', 'COLLEGE', '.'), ('BENEDICTINE', 'WITH', 'PERMISSION'), ('BENEDICTINE', 'WITH', '.'), ('BENEDICTINE', 'PERMISSION', '.'), ('COLLEGE', 'WITH', 'PERMISSION'), ('COLLEGE', 'WITH', '.'), ('COLLEGE', 'WITH', 'ELECTRONIC'), ('COLLEGE', 'PERMISSION', '.'), ('COLLEGE', 'PERMISSION', 'ELECTRONIC'), ('COLLEGE', '.', 'ELECTRONIC'), ('WITH', 'PERMISSION', '.'), ('WITH', 'PERMISSION', 'ELECTRONIC'), ('WITH', 'PERMISSION', 'AND'), ('WITH', '.', 'ELECTRONIC'), ('WITH', '.', 'AND'), ('WITH', 'ELECTRONIC', 'AND'), ('PERMISSION', '.', 'ELECTRONIC'), ('PERMISSION', '.', 'AND'), ('PERMISSION', '.', 'MACHINE'), ('PERMISSION', 'ELECTRONIC', 'AND'), ('PERMISSION', 'ELECTRONIC', 'MACHINE'), ('PERMISSION', 'AND', 'MACHINE'), ('.', 'ELECTRONIC', 'AND'), ('.', 'ELECTRONIC', 'MACHINE'), ('.', 'ELECTRONIC', 'READABLE'), ('.', 'AND', 'MACHINE'), ('.', 'AND', 'READABLE'), ('.', 'MACHINE', 'READABLE'), ('ELECTRONIC', 'AND', 'MACHINE'), ('ELECTRONIC', 'AND', 'READABLE'), ('ELECTRONIC', 'AND', 'COPIES'), ('ELECTRONIC', 'MACHINE', 'READABLE'), ('ELECTRONIC', 'MACHINE', 'COPIES'), ('ELECTRONIC', 'READABLE', 'COPIES'), ('AND', 'MACHINE', 'READABLE'), ('AND', 'MACHINE', 'COPIES'), ('AND', 'MACHINE', 'MAY'), ('AND', 'READABLE', 'COPIES'), ('AND', 'READABLE', 'MAY'), ('AND', 'COPIES', 'MAY'), ('MACHINE', 'READABLE', 'COPIES'), ('MACHINE', 'READABLE', 'MAY'), ('MACHINE', 'READABLE', 'BE'), ('MACHINE', 'COPIES', 'MAY'), ('MACHINE', 'COPIES', 'BE'), ('MACHINE', 'MAY', 'BE'), ('READABLE', 'COPIES', 'MAY'), ('READABLE', 'COPIES', 'BE'), ('READABLE', 'COPIES', 'DISTRIBUTED'), ('READABLE', 'MAY', 'BE'), ('READABLE', 'MAY', 'DISTRIBUTED'), ('READABLE', 'BE', 'DISTRIBUTED'), ('COPIES', 'MAY', 'BE'), ('COPIES', 'MAY', 'DISTRIBUTED'), ('COPIES', 'MAY', 'SO'), ('COPIES', 'BE', 'DISTRIBUTED'), ('COPIES', 'BE', 'SO'), ('COPIES', 'DISTRIBUTED', 'SO'), ('MAY', 'BE', 'DISTRIBUTED'), ('MAY', 'BE', 'SO'), ('MAY', 'BE', 'LONG'), ('MAY', 'DISTRIBUTED', 'SO'), ('MAY', 'DISTRIBUTED', 'LONG'), ('MAY', 'SO', 'LONG'), ('BE', 'DISTRIBUTED', 'SO'), ('BE', 'DISTRIBUTED', 'LONG'), ('BE', 'DISTRIBUTED', 'AS'), ('BE', 'SO', 'LONG'), ('BE', 'SO', 'AS'), ('BE', 'LONG', 'AS'), ('DISTRIBUTED', 'SO', 'LONG'), ('DISTRIBUTED', 'SO', 'AS'), ('DISTRIBUTED', 'SO', 'SUCH'), ('DISTRIBUTED', 'LONG', 'AS'), ('DISTRIBUTED', 'LONG', 'SUCH'), ('DISTRIBUTED', 'AS', 'SUCH'), ('SO', 'LONG', 'AS'), ('SO', 'LONG', 'SUCH'), ('SO', 'LONG', 'COPIES'), ('SO', 'AS', 'SUCH'), ('SO', 'AS', 'COPIES'), ('SO', 'SUCH', 'COPIES'), ('LONG', 'AS', 'SUCH'), ('LONG', 'AS', 'COPIES'), ('LONG', 'AS', '('), ('LONG', 'SUCH', 'COPIES'), ('LONG', 'SUCH', '('), ('LONG', 'COPIES', '('), ('AS', 'SUCH', 'COPIES'), ('AS', 'SUCH', '('), ('AS', 'SUCH', '1'), ('AS', 'COPIES', '('), ('AS', 'COPIES', '1'), ('AS', '(', '1'), ('SUCH', 'COPIES', '('), ('SUCH', 'COPIES', '1'), ('SUCH', 'COPIES', ')'), ('SUCH', '(', '1'), ('SUCH', '(', ')'), ('SUCH', '1', ')'), ('COPIES', '(', '1'), ('COPIES', '(', ')'), ('COPIES', '(', 'ARE'), ('COPIES', '1', ')'), ('COPIES', '1', 'ARE'), ('COPIES', ')', 'ARE'), ('(', '1', ')'), ('(', '1', 'ARE'), ('(', '1', 'FOR'), ('(', ')', 'ARE'), ('(', ')', 'FOR'), ('(', 'ARE', 'FOR'), ('1', ')', 'ARE'), ('1', ')', 'FOR'), ('1', ')', 'YOUR'), ('1', 'ARE', 'FOR'), ('1', 'ARE', 'YOUR'), ('1', 'FOR', 'YOUR'), (')', 'ARE', 'FOR'), (')', 'ARE', 'YOUR'), (')', 'ARE', 'OR'), (')', 'FOR', 'YOUR'), (')', 'FOR', 'OR'), (')', 'YOUR', 'OR'), ('ARE', 'FOR', 'YOUR'), ('ARE', 'FOR', 'OR'), ('ARE', 'FOR', 'OTHERS'), ('ARE', 'YOUR', 'OR'), ('ARE', 'YOUR', 'OTHERS'), ('ARE', 'OR', 'OTHERS'), ('FOR', 'YOUR', 'OR'), ('FOR', 'YOUR', 'OTHERS'), ('FOR', 'YOUR', 'PERSONAL'), ('FOR', 'OR', 'OTHERS'), ('FOR', 'OR', 'PERSONAL'), ('FOR', 'OTHERS', 'PERSONAL'), ('YOUR', 'OR', 'OTHERS'), ('YOUR', 'OR', 'PERSONAL'), ('YOUR', 'OR', 'USE'), ('YOUR', 'OTHERS', 'PERSONAL'), ('YOUR', 'OTHERS', 'USE'), ('YOUR', 'PERSONAL', 'USE'), ('OR', 'OTHERS', 'PERSONAL'), ('OR', 'OTHERS', 'USE'), ('OR', 'OTHERS', 'ONLY'), ('OR', 'PERSONAL', 'USE'), ('OR', 'PERSONAL', 'ONLY'), ('OR', 'USE', 'ONLY'), ('OTHERS', 'PERSONAL', 'USE'), ('OTHERS', 'PERSONAL', 'ONLY'), ('OTHERS', 'PERSONAL', ','), ('OTHERS', 'USE', 'ONLY'), ('OTHERS', 'USE', ','), ('OTHERS', 'ONLY', ','), ('PERSONAL', 'USE', 'ONLY'), ('PERSONAL', 'USE', ','), ('PERSONAL', 'USE', 'AND'), ('PERSONAL', 'ONLY', ','), ('PERSONAL', 'ONLY', 'AND'), ('PERSONAL', ',', 'AND'), ('USE', 'ONLY', ','), ('USE', 'ONLY', 'AND'), ('USE', 'ONLY', '('), ('USE', ',', 'AND'), ('USE', ',', '('), ('USE', 'AND', '('), ('ONLY', ',', 'AND'), ('ONLY', ',', '('), ('ONLY', 'AND', '('), (',', 'AND', '(')]\n"
     ]
    }
   ],
   "source": [
    "# %load SkipGrams.py\n",
    "from nltk import skipgrams\n",
    "\n",
    "from nltk.corpus import stopwords\n",
    "from nltk.tokenize import word_tokenize\n",
    "import itertools\n",
    "\n",
    "stopwords = list(stopwords.words('english'))\n",
    "numbers = list(range(0, 100))  # number that are identifiers of pages\n",
    "forumSpecificWords = ['>', '<', '?', '[', ']'] + numbers  # special signs\n",
    "stopwords += forumSpecificWords\n",
    "withoutStopWords=[]\n",
    "with open(\"shakespeare.txt\", \"rb\") as f:\n",
    "    content = f.read().decode('utf-8')\n",
    "    tokens = word_tokenize(content)\n",
    "#     withoutStopWords = [w for w in tokens if not w in stopwords]\n",
    "\n",
    "for w in tokens:\n",
    "    if w not in stopwords:\n",
    "        withoutStopWords.append(w.strip())  # clean whitespaces\n",
    "\n",
    "print(\"\\n---2,2:\", list(skipgrams(itertools.islice(withoutStopWords, 100), 2, 2)))\n",
    "print(\"\\n---2,3:\", list(skipgrams(itertools.islice(withoutStopWords, 100), 2, 3)))\n",
    "print(\"\\n---3,2:\", list(skipgrams(itertools.islice(withoutStopWords, 100), 3, 2)))\n"
   ]
  },
  {
   "cell_type": "code",
   "execution_count": null,
   "metadata": {},
   "outputs": [],
   "source": []
  },
  {
   "cell_type": "code",
   "execution_count": null,
   "metadata": {},
   "outputs": [],
   "source": []
  },
  {
   "cell_type": "code",
   "execution_count": null,
   "metadata": {},
   "outputs": [],
   "source": []
  }
 ],
 "metadata": {
  "kernelspec": {
   "display_name": "Python 3",
   "language": "python",
   "name": "python3"
  },
  "language_info": {
   "codemirror_mode": {
    "name": "ipython",
    "version": 3
   },
   "file_extension": ".py",
   "mimetype": "text/x-python",
   "name": "python",
   "nbconvert_exporter": "python",
   "pygments_lexer": "ipython3",
   "version": "3.7.1"
  }
 },
 "nbformat": 4,
 "nbformat_minor": 2
}
