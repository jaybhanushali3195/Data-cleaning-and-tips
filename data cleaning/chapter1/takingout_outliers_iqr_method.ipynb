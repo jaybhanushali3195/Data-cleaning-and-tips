{
 "cells": [
  {
   "cell_type": "code",
   "execution_count": 2,
   "metadata": {},
   "outputs": [
    {
     "name": "stdout",
     "output_type": "stream",
     "text": [
      "mean: 754.5833333333334\n",
      "std: 2801.3037577270256\n",
      "[-1000, 1, 2, 3, 4, 5, 6, 7, 8, 9, 10]\n"
     ]
    }
   ],
   "source": [
    "# %load find_outlier.py\n",
    "import numpy\n",
    "\n",
    "arr = [-1000, 1, 2, 3, 4, 5, 6, 7, 8, 9, 10, 10000]\n",
    "\n",
    "elements = numpy.array(arr)\n",
    "\n",
    "mean = numpy.mean(elements, axis=0)\n",
    "sd = numpy.std(elements, axis=0)\n",
    "print(\"mean:\", mean)\n",
    "print(\"std:\", sd)\n",
    "\n",
    "final_list = [x for x in arr if (x > mean - 2 * sd)]\n",
    "final_list = [x for x in final_list if (x < mean + 2 * sd)]\n",
    "print(final_list)\n"
   ]
  },
  {
   "cell_type": "code",
   "execution_count": 4,
   "metadata": {},
   "outputs": [
    {
     "name": "stdout",
     "output_type": "stream",
     "text": [
      "q1: 2.5\n",
      "q3: 7.5\n",
      "iqr 5.0\n",
      "lower_bound -5.0\n",
      "upper_bound 15.0\n",
      "[1, 2, 3, 4, 5, 6, 7, 8, 9, 10]\n"
     ]
    }
   ],
   "source": [
    "# %load outlier_iqr_method.py\n",
    "import numpy\n",
    "\n",
    "arr1 = [-1000, 1, 2, 3, 4, 5, 6, 7, 8, 9, 1000]\n",
    "\n",
    "elements = numpy.array(arr)\n",
    "\n",
    "\n",
    "def outliers_iqr(ys):\n",
    "    quartile_1, quartile_3 = numpy.percentile(ys, [25, 75])\n",
    "    print(\"q1:\", quartile_1)\n",
    "    print(\"q3:\", quartile_3)\n",
    "    iqr = quartile_3 - quartile_1\n",
    "    print(\"iqr\", iqr)\n",
    "    lower_bound = quartile_1 - (iqr * 1.5)\n",
    "    upper_bound = quartile_3 + (iqr * 1.5)\n",
    "    print(\"lower_bound\", lower_bound)\n",
    "    print(\"upper_bound\", upper_bound)\n",
    "    final_list = [x for x in arr if (x > lower_bound)]\n",
    "    final_list = [x for x in final_list if (x < upper_bound)]\n",
    "    return final_list\n",
    "\n",
    "\n",
    "res = outliers_iqr(arr1)\n",
    "print(res)\n"
   ]
  },
  {
   "cell_type": "code",
   "execution_count": null,
   "metadata": {},
   "outputs": [],
   "source": []
  }
 ],
 "metadata": {
  "kernelspec": {
   "display_name": "Python 3",
   "language": "python",
   "name": "python3"
  },
  "language_info": {
   "codemirror_mode": {
    "name": "ipython",
    "version": 3
   },
   "file_extension": ".py",
   "mimetype": "text/x-python",
   "name": "python",
   "nbconvert_exporter": "python",
   "pygments_lexer": "ipython3",
   "version": "3.7.1"
  }
 },
 "nbformat": 4,
 "nbformat_minor": 2
}
