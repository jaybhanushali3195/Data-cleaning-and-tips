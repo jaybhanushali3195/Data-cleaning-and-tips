{
 "cells": [
  {
   "cell_type": "code",
   "execution_count": 12,
   "metadata": {},
   "outputs": [],
   "source": [
    "import pandas as pd\n",
    "\n",
    "data = {'key1': [1, 2, 2, 3, 3],\n",
    "        'key2': [2, 2, 2, 1, 1],\n",
    "        'data': [5, 6, 2, 2, 2]}\n",
    "\n"
   ]
  },
  {
   "cell_type": "code",
   "execution_count": 13,
   "metadata": {},
   "outputs": [],
   "source": [
    "\n",
    "frame = pd.DataFrame(data, columns=['key1', 'key2', 'data'])\n",
    "\n"
   ]
  },
  {
   "cell_type": "code",
   "execution_count": 14,
   "metadata": {},
   "outputs": [
    {
     "data": {
      "text/html": [
       "<div>\n",
       "<style scoped>\n",
       "    .dataframe tbody tr th:only-of-type {\n",
       "        vertical-align: middle;\n",
       "    }\n",
       "\n",
       "    .dataframe tbody tr th {\n",
       "        vertical-align: top;\n",
       "    }\n",
       "\n",
       "    .dataframe thead th {\n",
       "        text-align: right;\n",
       "    }\n",
       "</style>\n",
       "<table border=\"1\" class=\"dataframe\">\n",
       "  <thead>\n",
       "    <tr style=\"text-align: right;\">\n",
       "      <th></th>\n",
       "      <th>key1</th>\n",
       "      <th>key2</th>\n",
       "      <th>data</th>\n",
       "    </tr>\n",
       "  </thead>\n",
       "  <tbody>\n",
       "    <tr>\n",
       "      <th>0</th>\n",
       "      <td>1</td>\n",
       "      <td>2</td>\n",
       "      <td>5</td>\n",
       "    </tr>\n",
       "    <tr>\n",
       "      <th>1</th>\n",
       "      <td>2</td>\n",
       "      <td>2</td>\n",
       "      <td>6</td>\n",
       "    </tr>\n",
       "    <tr>\n",
       "      <th>2</th>\n",
       "      <td>2</td>\n",
       "      <td>2</td>\n",
       "      <td>2</td>\n",
       "    </tr>\n",
       "    <tr>\n",
       "      <th>3</th>\n",
       "      <td>3</td>\n",
       "      <td>1</td>\n",
       "      <td>2</td>\n",
       "    </tr>\n",
       "    <tr>\n",
       "      <th>4</th>\n",
       "      <td>3</td>\n",
       "      <td>1</td>\n",
       "      <td>2</td>\n",
       "    </tr>\n",
       "  </tbody>\n",
       "</table>\n",
       "</div>"
      ],
      "text/plain": [
       "   key1  key2  data\n",
       "0     1     2     5\n",
       "1     2     2     6\n",
       "2     2     2     2\n",
       "3     3     1     2\n",
       "4     3     1     2"
      ]
     },
     "execution_count": 14,
     "metadata": {},
     "output_type": "execute_result"
    }
   ],
   "source": [
    "frame"
   ]
  },
  {
   "cell_type": "code",
   "execution_count": 5,
   "metadata": {},
   "outputs": [
    {
     "name": "stdout",
     "output_type": "stream",
     "text": [
      "--------------Original--------------:\n",
      "    key1  key2  data\n",
      "0     1     2     5\n",
      "1     2     2     6\n",
      "2     2     2     2\n",
      "3     3     1     2\n",
      "4     3     1     2\n",
      "--------------localDuplicates (on key1 only)--------------:\n",
      "    key1  key2  data\n",
      "2     2     2     2\n",
      "4     3     1     2\n"
     ]
    }
   ],
   "source": [
    "print(\"--------------Original--------------:\\n\", frame)\n",
    "\n",
    "localDuplicates = frame[frame.duplicated(['key1'], keep='first')\n",
    "                        | frame.duplicated(['key1'])]\n",
    "\n",
    "print(\"--------------localDuplicates (on key1 only)--------------:\\n\", localDuplicates)"
   ]
  },
  {
   "cell_type": "code",
   "execution_count": 10,
   "metadata": {},
   "outputs": [
    {
     "name": "stdout",
     "output_type": "stream",
     "text": [
      "   key1  key2  data\n",
      "2     2     2     2\n",
      "4     3     1     2\n"
     ]
    }
   ],
   "source": [
    "print(frame[frame.duplicated(['key1'], keep='first')\n",
    "                        | frame.duplicated(['key1'])])"
   ]
  },
  {
   "cell_type": "code",
   "execution_count": 11,
   "metadata": {},
   "outputs": [
    {
     "name": "stdout",
     "output_type": "stream",
     "text": [
      "--------------Original--------------:\n",
      "    key1  key2  data\n",
      "0     1     2     5\n",
      "1     2     2     6\n",
      "2     2     2     2\n",
      "3     3     1     2\n",
      "4     3     1     2\n",
      "--------------GlobalDuplicates--------------:\n",
      "    key1  key2  data\n",
      "4     3     1     2\n"
     ]
    }
   ],
   "source": [
    "import pandas as pd\n",
    "\n",
    "data = {'key1': [1, 2, 2, 3, 3],\n",
    "        'key2': [2, 2, 2, 1, 1],\n",
    "        'data': [5, 6, 2, 2, 2]}\n",
    "\n",
    "frame = pd.DataFrame(data, columns=['key1', 'key2', 'data'])\n",
    "\n",
    "print(\"--------------Original--------------:\\n\", frame)\n",
    "\n",
    "globalDuplicates = frame[frame.duplicated(['key1', 'key2', 'data'], keep='first')\n",
    "                         | frame.duplicated(['key1', 'key2', 'data'])]\n",
    "\n",
    "print(\"--------------GlobalDuplicates--------------:\\n\", globalDuplicates)\n"
   ]
  },
  {
   "cell_type": "code",
   "execution_count": null,
   "metadata": {},
   "outputs": [],
   "source": []
  }
 ],
 "metadata": {
  "kernelspec": {
   "display_name": "Python 3",
   "language": "python",
   "name": "python3"
  },
  "language_info": {
   "codemirror_mode": {
    "name": "ipython",
    "version": 3
   },
   "file_extension": ".py",
   "mimetype": "text/x-python",
   "name": "python",
   "nbconvert_exporter": "python",
   "pygments_lexer": "ipython3",
   "version": "3.7.1"
  }
 },
 "nbformat": 4,
 "nbformat_minor": 2
}
